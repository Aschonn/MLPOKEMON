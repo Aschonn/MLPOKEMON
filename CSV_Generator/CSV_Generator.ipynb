{
 "cells": [
  {
   "cell_type": "code",
   "execution_count": 19,
   "id": "248d81cc",
   "metadata": {},
   "outputs": [],
   "source": [
    "import re\n",
    "import fnmatch\n",
    "import os\n",
    "from PIL import Image\n",
    "\n",
    "directory_path = os.getcwd()\n",
    "\n",
    "\n",
    "# Make list of files in directory\n",
    "fileList = [f for f in os.listdir(str(directory_path)) if fnmatch.fnmatch(f, '*.png')]\n",
    "\n",
    "\n",
    "# Modify file list for formatting\n",
    "splitList = []\n",
    "count = 0\n",
    "for i in fileList:\n",
    "    split_string = re.split(r'_|.png', i)\n",
    "    split_string = split_string[:2]\n",
    "    split_string.append(i)\n",
    "    splitList.append(split_string)\n",
    "\n",
    "# Modify splitList for file writing\n",
    "\n",
    "def emptyFile(): \n",
    "    file = open(\"PokeDatabase.csv\", \"w\")\n",
    "    file.write(\"\")\n",
    "    file.close()\n",
    "    \n",
    "    \n",
    "emptyFile()\n",
    "    \n",
    "file = open(\"PokeDatabase.csv\", \"a\")\n",
    "\n",
    "for i in splitList:\n",
    "    appendStr = i[2] + \",\" + i[0] + \"\\n\"\n",
    "    file.write(appendStr)\n",
    "        \n",
    "file.close()\n",
    "\n",
    "\n",
    "\n",
    "\n"
   ]
  },
  {
   "cell_type": "code",
   "execution_count": null,
   "id": "2ef889fe",
   "metadata": {},
   "outputs": [],
   "source": []
  }
 ],
 "metadata": {
  "kernelspec": {
   "display_name": "Python 3 (ipykernel)",
   "language": "python",
   "name": "python3"
  },
  "language_info": {
   "codemirror_mode": {
    "name": "ipython",
    "version": 3
   },
   "file_extension": ".py",
   "mimetype": "text/x-python",
   "name": "python",
   "nbconvert_exporter": "python",
   "pygments_lexer": "ipython3",
   "version": "3.9.7"
  }
 },
 "nbformat": 4,
 "nbformat_minor": 5
}
